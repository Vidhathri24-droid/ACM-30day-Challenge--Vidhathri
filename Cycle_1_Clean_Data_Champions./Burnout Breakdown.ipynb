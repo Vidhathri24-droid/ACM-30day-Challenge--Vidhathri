{
 "cells": [
  {
   "cell_type": "code",
   "execution_count": 1,
   "id": "e18241aa-aa2b-47a8-86c0-1df7f49363ec",
   "metadata": {},
   "outputs": [
    {
     "name": "stdout",
     "output_type": "stream",
     "text": [
      "(3000, 25)\n"
     ]
    }
   ],
   "source": [
    "import pandas as pd\n",
    "df = pd.read_csv(r\"C:\\Users\\Lenovo\\Downloads\\mental_health_workplace_survey.csv\")\n",
    "print(df.shape)\n",
    "#df.shape attribute is used to determine the dimensions of a dataframe. It returns a tuple representing the number of rows and columns."
   ]
  },
  {
   "cell_type": "code",
   "execution_count": 2,
   "id": "e63224d7-d220-426e-bb0a-bf84cd022b22",
   "metadata": {},
   "outputs": [
    {
     "name": "stdout",
     "output_type": "stream",
     "text": [
      "<class 'pandas.core.frame.DataFrame'>\n",
      "RangeIndex: 3000 entries, 0 to 2999\n",
      "Data columns (total 25 columns):\n",
      " #   Column                  Non-Null Count  Dtype  \n",
      "---  ------                  --------------  -----  \n",
      " 0   EmployeeID              3000 non-null   int64  \n",
      " 1   Age                     3000 non-null   int64  \n",
      " 2   Gender                  3000 non-null   object \n",
      " 3   Country                 3000 non-null   object \n",
      " 4   JobRole                 3000 non-null   object \n",
      " 5   Department              3000 non-null   object \n",
      " 6   YearsAtCompany          3000 non-null   int64  \n",
      " 7   WorkHoursPerWeek        3000 non-null   int64  \n",
      " 8   RemoteWork              3000 non-null   object \n",
      " 9   BurnoutLevel            3000 non-null   float64\n",
      " 10  JobSatisfaction         3000 non-null   float64\n",
      " 11  StressLevel             3000 non-null   float64\n",
      " 12  ProductivityScore       3000 non-null   float64\n",
      " 13  SleepHours              3000 non-null   float64\n",
      " 14  PhysicalActivityHrs     3000 non-null   float64\n",
      " 15  CommuteTime             3000 non-null   int64  \n",
      " 16  HasMentalHealthSupport  3000 non-null   object \n",
      " 17  ManagerSupportScore     3000 non-null   float64\n",
      " 18  HasTherapyAccess        3000 non-null   object \n",
      " 19  MentalHealthDaysOff     3000 non-null   int64  \n",
      " 20  SalaryRange             3000 non-null   object \n",
      " 21  WorkLifeBalanceScore    3000 non-null   float64\n",
      " 22  TeamSize                3000 non-null   int64  \n",
      " 23  CareerGrowthScore       3000 non-null   float64\n",
      " 24  BurnoutRisk             3000 non-null   int64  \n",
      "dtypes: float64(9), int64(8), object(8)\n",
      "memory usage: 586.1+ KB\n",
      "None\n"
     ]
    }
   ],
   "source": [
    "print(df.info())\n",
    "#df.info() is used to obtain summary of a dataframe. It is essential for data cleaning, exploration, and analysis. We can know the data-type, non-null counts, memory usage, column names and index."
   ]
  },
  {
   "cell_type": "code",
   "execution_count": 3,
   "id": "327f4573-47e9-4399-967a-c15b88267586",
   "metadata": {},
   "outputs": [
    {
     "name": "stdout",
     "output_type": "stream",
     "text": [
      "   EmployeeID  Age      Gender    Country            JobRole Department  \\\n",
      "0        1001   50        Male         UK    Sales Associate         HR   \n",
      "1        1002   36        Male    Germany  Software Engineer         IT   \n",
      "2        1003   29  Non-binary      India           IT Admin         IT   \n",
      "3        1004   42        Male  Australia      HR Specialist         IT   \n",
      "4        1005   40        Male     Brazil   Customer Support    Support   \n",
      "\n",
      "   YearsAtCompany  WorkHoursPerWeek RemoteWork  BurnoutLevel  ...  \\\n",
      "0              14                47         No          3.37  ...   \n",
      "1               1                59     Hybrid          7.39  ...   \n",
      "2              13                59     Hybrid          7.10  ...   \n",
      "3              15                31        Yes          4.18  ...   \n",
      "4               6                34        Yes          8.28  ...   \n",
      "\n",
      "   CommuteTime  HasMentalHealthSupport  ManagerSupportScore  HasTherapyAccess  \\\n",
      "0          117                      No                 3.15               Yes   \n",
      "1            8                     Yes                 4.40               Yes   \n",
      "2           75                      No                 3.63                No   \n",
      "3           43                     Yes                 4.50               Yes   \n",
      "4           58                     Yes                 5.51               Yes   \n",
      "\n",
      "   MentalHealthDaysOff  SalaryRange WorkLifeBalanceScore  TeamSize  \\\n",
      "0                    8      40K-60K                 8.82         6   \n",
      "1                    4     80K-100K                 2.80        45   \n",
      "2                    6     80K-100K                 7.28         7   \n",
      "3                    9      60K-80K                 1.31        11   \n",
      "4                    6         <40K                 1.17        18   \n",
      "\n",
      "  CareerGrowthScore  BurnoutRisk  \n",
      "0              9.20            0  \n",
      "1              8.46            1  \n",
      "2              7.96            1  \n",
      "3              8.90            0  \n",
      "4              8.88            1  \n",
      "\n",
      "[5 rows x 25 columns]\n"
     ]
    }
   ],
   "source": [
    "print(df.head())\n",
    "# head() method is used to preview the first few rows of a data frame. By default, head() returns first 5 rows.\n",
    "# It also supports negative values, where df.head(-n) returns all the rows except the last n rows."
   ]
  },
  {
   "cell_type": "code",
   "execution_count": 5,
   "id": "a0e66942-0b75-487c-8ef7-58ab3b542abd",
   "metadata": {},
   "outputs": [],
   "source": [
    "df.replace([\"\", \"NA\", \"N/A\", \"null\"], pd.NA, inplace=True)\n",
    "# Pandas built-in functions for handling missing data, like isna() or dropna() recognize the \"\" or \"NA\" or \"N/A\" or \"null\" and converts them into pd.NA, which is a missing value indicator in pandas.\n",
    "# The inplace = True argument modifies the dataframe directly, avoiding the need to assign the result back to the original dataframe."
   ]
  },
  {
   "cell_type": "code",
   "execution_count": null,
   "id": "c70ef224-c618-4378-9c84-5f417ebde529",
   "metadata": {},
   "outputs": [
    {
     "name": "stdout",
     "output_type": "stream",
     "text": [
      "EmployeeID                0\n",
      "Age                       0\n",
      "Gender                    0\n",
      "Country                   0\n",
      "JobRole                   0\n",
      "Department                0\n",
      "YearsAtCompany            0\n",
      "WorkHoursPerWeek          0\n",
      "RemoteWork                0\n",
      "BurnoutLevel              0\n",
      "JobSatisfaction           0\n",
      "StressLevel               0\n",
      "ProductivityScore         0\n",
      "SleepHours                0\n",
      "PhysicalActivityHrs       0\n",
      "CommuteTime               0\n",
      "HasMentalHealthSupport    0\n",
      "ManagerSupportScore       0\n",
      "HasTherapyAccess          0\n",
      "MentalHealthDaysOff       0\n",
      "SalaryRange               0\n",
      "WorkLifeBalanceScore      0\n",
      "TeamSize                  0\n",
      "CareerGrowthScore         0\n",
      "BurnoutRisk               0\n",
      "dtype: int64\n"
     ]
    }
   ],
   "source": [
    "print(df.isnull().sum())\n",
    "# df.isnull().sum() is used to ientify and quantify the number of missing values in each column of a dataframe."
   ]
  },
  {
   "cell_type": "code",
   "execution_count": null,
   "id": "3f085968-5cf8-46f4-9dba-76b20300109f",
   "metadata": {},
   "outputs": [],
   "source": []
  }
 ],
 "metadata": {
  "kernelspec": {
   "display_name": "Python 3 (ipykernel)",
   "language": "python",
   "name": "python3"
  },
  "language_info": {
   "codemirror_mode": {
    "name": "ipython",
    "version": 3
   },
   "file_extension": ".py",
   "mimetype": "text/x-python",
   "name": "python",
   "nbconvert_exporter": "python",
   "pygments_lexer": "ipython3",
   "version": "3.13.3"
  }
 },
 "nbformat": 4,
 "nbformat_minor": 5
}
