import pandas as pd

df = pd.read_csv(r"C:\Users\Lenovo\Downloads\mental_health_workplace_survey.csv")

print(df.shape)
#df.shape attribute is used to determine the dimensions of a dataframe. It returns a tuple representing the number of rows and columns.

print(df.info())
#df.info() is used to obtain summary of a dataframe. It is essential for data cleaning, exploration, and analysis. We can know the data-type, non-null counts, memory usage, column names and index.

print(df.head())
# head() method is used to preview the first few rows of a data frame. By default, head() returns first 5 rows.
# It also supports negative values, where df.head(-n) returns all the rows except the last n rows.

df.replace(["", "NA", "N/A", "null"], pd.NA, inplace=True)
# Pandas built-in functions for handling missing data, like isna() or dropna() recognize the "" or "NA" or "N/A" or "null" and converts them into pd.NA, which is a missing value indicator in pandas.
# The inplace = True argument modifies the dataframe directly, avoiding the need to assign the result back to the original dataframe.

print(df.isnull().sum())
# df.isnull().sum() is used to ientify and quantify the number of missing values in each column of a dataframe.
